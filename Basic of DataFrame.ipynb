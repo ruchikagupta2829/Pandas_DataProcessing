{
 "cells": [
  {
   "cell_type": "markdown",
   "id": "b450bd8b",
   "metadata": {},
   "source": [
    "# Creating series using series() functions of pandas library."
   ]
  },
  {
   "cell_type": "code",
   "execution_count": 1,
   "id": "d4b83f05",
   "metadata": {},
   "outputs": [],
   "source": [
    "# import pandas library\n",
    "import pandas as pd"
   ]
  },
  {
   "cell_type": "code",
   "execution_count": 2,
   "id": "e6818d07",
   "metadata": {},
   "outputs": [],
   "source": [
    "# creating a list\n",
    "costlist = [150,50,200,80,300]"
   ]
  },
  {
   "cell_type": "code",
   "execution_count": 4,
   "id": "df499bcf",
   "metadata": {},
   "outputs": [],
   "source": [
    "# creating a  series \n",
    "itemseries = pd.Series(costlist, index = ['notebook', 'pens pecket', 'ragister', 'compass','books set'])"
   ]
  },
  {
   "cell_type": "code",
   "execution_count": 5,
   "id": "67850d82",
   "metadata": {},
   "outputs": [
    {
     "name": "stdout",
     "output_type": "stream",
     "text": [
      "notebook       150\n",
      "pens pecket     50\n",
      "ragister       200\n",
      "compass         80\n",
      "books set      300\n",
      "dtype: int64\n"
     ]
    }
   ],
   "source": [
    "print(itemseries)"
   ]
  },
  {
   "cell_type": "code",
   "execution_count": null,
   "id": "3ec79a0b",
   "metadata": {},
   "outputs": [],
   "source": []
  }
 ],
 "metadata": {
  "kernelspec": {
   "display_name": "Python 3 (ipykernel)",
   "language": "python",
   "name": "python3"
  },
  "language_info": {
   "codemirror_mode": {
    "name": "ipython",
    "version": 3
   },
   "file_extension": ".py",
   "mimetype": "text/x-python",
   "name": "python",
   "nbconvert_exporter": "python",
   "pygments_lexer": "ipython3",
   "version": "3.9.7"
  }
 },
 "nbformat": 4,
 "nbformat_minor": 5
}
