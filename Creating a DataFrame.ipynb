{
 "cells": [
  {
   "cell_type": "code",
   "execution_count": 1,
   "id": "002f9029",
   "metadata": {},
   "outputs": [],
   "source": [
    "import pandas as pd"
   ]
  },
  {
   "cell_type": "code",
   "execution_count": 3,
   "id": "82a17e77",
   "metadata": {},
   "outputs": [],
   "source": [
    "itemdf = pd.DataFrame([[100,200,300,400,500],[4,2,5,6,1]],\n",
    "columns = ['pen','ragister','notebooks','keyboard','mouse'])"
   ]
  },
  {
   "cell_type": "code",
   "execution_count": 5,
   "id": "5460aa67",
   "metadata": {},
   "outputs": [
    {
     "name": "stdout",
     "output_type": "stream",
     "text": [
      "Dataframe of product is: \n",
      "    pen  ragister  notebooks  keyboard  mouse\n",
      "0  100       200        300       400    500\n",
      "1    4         2          5         6      1\n"
     ]
    }
   ],
   "source": [
    "print(\"Dataframe of product is: \\n\", itemdf)"
   ]
  },
  {
   "cell_type": "code",
   "execution_count": 6,
   "id": "eb80d0e2",
   "metadata": {},
   "outputs": [
    {
     "name": "stdout",
     "output_type": "stream",
     "text": [
      "(2, 5)\n"
     ]
    }
   ],
   "source": [
    "print(itemdf.shape)"
   ]
  },
  {
   "cell_type": "code",
   "execution_count": 7,
   "id": "42c395d1",
   "metadata": {},
   "outputs": [
    {
     "name": "stdout",
     "output_type": "stream",
     "text": [
      "10\n"
     ]
    }
   ],
   "source": [
    "print(itemdf.size)"
   ]
  },
  {
   "cell_type": "code",
   "execution_count": 8,
   "id": "bd2092dc",
   "metadata": {},
   "outputs": [
    {
     "name": "stdout",
     "output_type": "stream",
     "text": [
      "name of the column: Index(['pen', 'ragister', 'notebooks', 'keyboard', 'mouse'], dtype='object')\n"
     ]
    }
   ],
   "source": [
    "print(\"name of the column:\",itemdf.keys())"
   ]
  },
  {
   "cell_type": "code",
   "execution_count": null,
   "id": "44abcb53",
   "metadata": {},
   "outputs": [],
   "source": []
  }
 ],
 "metadata": {
  "kernelspec": {
   "display_name": "Python 3 (ipykernel)",
   "language": "python",
   "name": "python3"
  },
  "language_info": {
   "codemirror_mode": {
    "name": "ipython",
    "version": 3
   },
   "file_extension": ".py",
   "mimetype": "text/x-python",
   "name": "python",
   "nbconvert_exporter": "python",
   "pygments_lexer": "ipython3",
   "version": "3.9.7"
  }
 },
 "nbformat": 4,
 "nbformat_minor": 5
}
