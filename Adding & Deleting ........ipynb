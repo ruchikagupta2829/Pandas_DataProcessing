{
 "cells": [
  {
   "cell_type": "markdown",
   "id": "90e47889",
   "metadata": {},
   "source": [
    "# How to adding & deleting the rows and columns in DataFrame..........."
   ]
  },
  {
   "cell_type": "markdown",
   "id": "a4422879",
   "metadata": {},
   "source": [
    "1. Create a daatframe"
   ]
  },
  {
   "cell_type": "code",
   "execution_count": 1,
   "id": "20363cbc",
   "metadata": {},
   "outputs": [],
   "source": [
    "import pandas as pd"
   ]
  },
  {
   "cell_type": "code",
   "execution_count": 2,
   "id": "7ad323f4",
   "metadata": {},
   "outputs": [],
   "source": [
    "itemdf = pd. DataFrame([[100,200,300,400,500],[2,4,6,8,10]],\n",
    "columns = ['pen','ragister','notebokks','booksset','sheets'])"
   ]
  },
  {
   "cell_type": "code",
   "execution_count": 4,
   "id": "b8d340bd",
   "metadata": {},
   "outputs": [
    {
     "name": "stdout",
     "output_type": "stream",
     "text": [
      "DataFrame:\n",
      "    pen  ragister  notebokks  booksset  sheets\n",
      "0  100       200        300       400     500\n",
      "1    2         4          6         8      10\n"
     ]
    }
   ],
   "source": [
    "print(\"DataFrame:\\n\", itemdf)"
   ]
  },
  {
   "cell_type": "code",
   "execution_count": 6,
   "id": "07469da8",
   "metadata": {},
   "outputs": [
    {
     "name": "stdout",
     "output_type": "stream",
     "text": [
      "(2, 5)\n"
     ]
    }
   ],
   "source": [
    "print(itemdf.shape)"
   ]
  },
  {
   "cell_type": "code",
   "execution_count": 7,
   "id": "cb1e4700",
   "metadata": {},
   "outputs": [
    {
     "name": "stdout",
     "output_type": "stream",
     "text": [
      "10\n"
     ]
    }
   ],
   "source": [
    "print(itemdf.size)"
   ]
  },
  {
   "cell_type": "code",
   "execution_count": 8,
   "id": "a7a0c699",
   "metadata": {},
   "outputs": [
    {
     "name": "stdout",
     "output_type": "stream",
     "text": [
      "Index(['pen', 'ragister', 'notebokks', 'booksset', 'sheets'], dtype='object')\n"
     ]
    }
   ],
   "source": [
    "print(itemdf.keys())"
   ]
  },
  {
   "cell_type": "markdown",
   "id": "311ca467",
   "metadata": {},
   "source": [
    "# How to adding  the rows and columns in DataFrame..........."
   ]
  },
  {
   "cell_type": "code",
   "execution_count": 11,
   "id": "7ee9983b",
   "metadata": {},
   "outputs": [
    {
     "name": "stdout",
     "output_type": "stream",
     "text": [
      "   colurs  pencils  crayons  erasers  sharpners\n",
      "0      15       16       17       18         20\n",
      "1       2        6        9        7          8\n"
     ]
    }
   ],
   "source": [
    "itemdf2 = pd.DataFrame([[15,16,17,18,20],[2,6,9,7,8]],\n",
    "columns  =['colurs','pencils','crayons','erasers','sharpners'])\n",
    "print(itemdf2)"
   ]
  },
  {
   "cell_type": "code",
   "execution_count": 14,
   "id": "d8876882",
   "metadata": {},
   "outputs": [],
   "source": [
    "itemdf3 = itemdf.append(itemdf2)"
   ]
  },
  {
   "cell_type": "code",
   "execution_count": 16,
   "id": "5c5fd2c5",
   "metadata": {},
   "outputs": [],
   "source": [
    "itemdf3[\"mobile\"]=[15000,11200,8000,9500]"
   ]
  },
  {
   "cell_type": "code",
   "execution_count": 17,
   "id": "e774463c",
   "metadata": {},
   "outputs": [],
   "source": [
    "itemdf3[\"mouse\"]=[150,120,80,100]"
   ]
  },
  {
   "cell_type": "code",
   "execution_count": 18,
   "id": "d3195fe0",
   "metadata": {},
   "outputs": [
    {
     "name": "stdout",
     "output_type": "stream",
     "text": [
      "     pen  ragister  notebokks  booksset  sheets  colurs  pencils  crayons  \\\n",
      "0  100.0     200.0      300.0     400.0   500.0     NaN      NaN      NaN   \n",
      "1    2.0       4.0        6.0       8.0    10.0     NaN      NaN      NaN   \n",
      "0    NaN       NaN        NaN       NaN     NaN    15.0     16.0     17.0   \n",
      "1    NaN       NaN        NaN       NaN     NaN     2.0      6.0      9.0   \n",
      "\n",
      "   erasers  sharpners  mobile  mouse  \n",
      "0      NaN        NaN   15000    150  \n",
      "1      NaN        NaN   11200    120  \n",
      "0     18.0       20.0    8000     80  \n",
      "1      7.0        8.0    9500    100  \n"
     ]
    }
   ],
   "source": [
    "print(itemdf3)"
   ]
  },
  {
   "cell_type": "markdown",
   "id": "33fbc1bc",
   "metadata": {},
   "source": [
    "# Deleting the row and columns.........."
   ]
  },
  {
   "cell_type": "code",
   "execution_count": 19,
   "id": "ffdc1996",
   "metadata": {},
   "outputs": [
    {
     "name": "stdout",
     "output_type": "stream",
     "text": [
      "   pen  ragister  notebokks  booksset  sheets  colurs  pencils  crayons  \\\n",
      "1  2.0       4.0        6.0       8.0    10.0     NaN      NaN      NaN   \n",
      "1  NaN       NaN        NaN       NaN     NaN     2.0      6.0      9.0   \n",
      "\n",
      "   erasers  sharpners  mobile  mouse  \n",
      "1      NaN        NaN   11200    120  \n",
      "1      7.0        8.0    9500    100  \n"
     ]
    }
   ],
   "source": [
    "itemdf3 = itemdf3.drop(index =[0])\n",
    "print(itemdf3)"
   ]
  },
  {
   "cell_type": "code",
   "execution_count": null,
   "id": "fef5319e",
   "metadata": {},
   "outputs": [],
   "source": []
  }
 ],
 "metadata": {
  "kernelspec": {
   "display_name": "Python 3 (ipykernel)",
   "language": "python",
   "name": "python3"
  },
  "language_info": {
   "codemirror_mode": {
    "name": "ipython",
    "version": 3
   },
   "file_extension": ".py",
   "mimetype": "text/x-python",
   "name": "python",
   "nbconvert_exporter": "python",
   "pygments_lexer": "ipython3",
   "version": "3.9.7"
  }
 },
 "nbformat": 4,
 "nbformat_minor": 5
}
